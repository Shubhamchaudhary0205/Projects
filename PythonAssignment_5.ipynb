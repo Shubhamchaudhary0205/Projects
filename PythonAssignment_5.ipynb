{
  "nbformat": 4,
  "nbformat_minor": 0,
  "metadata": {
    "colab": {
      "provenance": []
    },
    "kernelspec": {
      "name": "python3",
      "display_name": "Python 3"
    },
    "language_info": {
      "name": "python"
    }
  },
  "cells": [
    {
      "cell_type": "markdown",
      "source": [
        "# Real-Life Python Practice Questions\n",
        "\n",
        "**Python Assignment - 6**"
      ],
      "metadata": {
        "id": "AR3N8B-GTFRl"
      }
    },
    {
      "cell_type": "markdown",
      "source": [
        "1) Temperature Converter\n",
        "\n",
        "Q) Write a program to convert temperature from Celsius to Fahrenheit."
      ],
      "metadata": {
        "id": "ZMYlD2jSTmj5"
      }
    },
    {
      "cell_type": "code",
      "execution_count": 4,
      "metadata": {
        "colab": {
          "base_uri": "https://localhost:8080/"
        },
        "id": "38TNc1suS5nm",
        "outputId": "4c08b0c3-3ef2-409d-829a-a791d8099533"
      },
      "outputs": [
        {
          "output_type": "stream",
          "name": "stdout",
          "text": [
            "Enter temperature in Celsius: 35.6\n",
            "35.6°C is equal to 96.08000000000001°F\n"
          ]
        }
      ],
      "source": [
        "#Question 1: Temperature Converter 🌡️🔁\n",
        "\n",
        "# Ask user for temperature in Celsius\n",
        "celsius = float(input(\"Enter temperature in Celsius: \"))\n",
        "\n",
        "# Convert to Fahrenheit\n",
        "fahrenheit = (celsius * 9/5) + 32\n",
        "\n",
        "# Display result\n",
        "print(f\"{celsius}°C is equal to {fahrenheit}°F\")"
      ]
    },
    {
      "cell_type": "markdown",
      "source": [
        "-------"
      ],
      "metadata": {
        "id": "KGWqg-GOgsBs"
      }
    },
    {
      "cell_type": "markdown",
      "source": [
        "2) Daily Water Reminder\n",
        "\n",
        "Ask the user how many glasses of water they drank today and suggest if they need to drink more (recommended: 8 glasses/day)."
      ],
      "metadata": {
        "id": "snzJjWK4ULGa"
      }
    },
    {
      "cell_type": "code",
      "source": [
        "# Question 2: Daily Water Reminder 💧🕒\n",
        "\n",
        "# Ask the user for number of glasses\n",
        "glasses = int(input(\"How many glasses of water did you drink today? \"))\n",
        "\n",
        "# Recommended amount\n",
        "recommended = 8\n",
        "\n",
        "# Check hydration status\n",
        "if glasses >= recommended:\n",
        "    print(\"Great job! You're well hydrated. ✅\")\n",
        "else:\n",
        "    print(f\"You need to drink {recommended - glasses} more glass(es) of water today. 💧\")"
      ],
      "metadata": {
        "colab": {
          "base_uri": "https://localhost:8080/"
        },
        "id": "NbIjVroPT6Kf",
        "outputId": "504c8b35-2462-4c65-f3b1-46ae2449eb3b"
      },
      "execution_count": 6,
      "outputs": [
        {
          "output_type": "stream",
          "name": "stdout",
          "text": [
            "How many glasses of water did you drink today? 8\n",
            "Great job! You're well hydrated. ✅\n"
          ]
        }
      ]
    },
    {
      "cell_type": "markdown",
      "source": [
        "-------"
      ],
      "metadata": {
        "id": "lmke54tWgoHp"
      }
    },
    {
      "cell_type": "markdown",
      "source": [
        "3) Online Delivery ETA\n",
        "\n",
        "Ask the user current time and delivery wait time (in mins) — calculate and print\n",
        "estimated delivery time."
      ],
      "metadata": {
        "id": "77DpHFqvXPAW"
      }
    },
    {
      "cell_type": "code",
      "source": [
        "# Question 3: Online Delivery ETA ⏱️📦\n",
        "\n",
        "from datetime import datetime, timedelta\n",
        "\n",
        "# Ask user for current time in HH:MM format\n",
        "current_time_str = input(\"Enter current time (HH:MM): \")\n",
        "\n",
        "# Parse it into a datetime object (assume today’s date)\n",
        "current_time = datetime.strptime(current_time_str, \"%H:%M\")\n",
        "\n",
        "# Ask for delivery wait time in minutes\n",
        "wait_minutes = int(input(\"Enter delivery wait time (in minutes): \"))\n",
        "\n",
        "# Add wait time to current time\n",
        "eta = current_time + timedelta(minutes=wait_minutes)\n",
        "\n",
        "# Print the estimated delivery time in HH:MM format\n",
        "print(\"Estimated Delivery Time:\", eta.strftime(\"%H:%M\"))"
      ],
      "metadata": {
        "colab": {
          "base_uri": "https://localhost:8080/"
        },
        "id": "6SywN06aXLFp",
        "outputId": "4f0ee908-ddca-431f-ebce-f99e92156b28"
      },
      "execution_count": 8,
      "outputs": [
        {
          "output_type": "stream",
          "name": "stdout",
          "text": [
            "Enter current time (HH:MM): 13:30\n",
            "Enter delivery wait time (in minutes): 45\n",
            "Estimated Delivery Time: 14:15\n"
          ]
        }
      ]
    },
    {
      "cell_type": "markdown",
      "source": [
        "--------"
      ],
      "metadata": {
        "id": "xB9CcUJ1gmtQ"
      }
    },
    {
      "cell_type": "markdown",
      "source": [
        "4) Grocery Budget Calculator\n",
        "\n",
        "Take inputs for the price and quantity of 3 grocery items and calculate the total bill."
      ],
      "metadata": {
        "id": "IQtUyYuBX3Os"
      }
    },
    {
      "cell_type": "code",
      "source": [
        "# Question 4: Grocery Budget Calculator 🛒🧮\n",
        "\n",
        "total_bill = 0\n",
        "\n",
        "for i in range(1, 4):\n",
        "    print(f\"\\nItem {i}:\")\n",
        "    price = float(input(\"  Enter price: ₹\"))\n",
        "    quantity = int(input(\"  Enter quantity: \"))\n",
        "    total_bill += price * quantity\n",
        "\n",
        "# Show total\n",
        "print(f\"\\n🧾 Total Grocery Bill: ₹{total_bill:.2f}\")"
      ],
      "metadata": {
        "colab": {
          "base_uri": "https://localhost:8080/"
        },
        "id": "ty_MppblXvbG",
        "outputId": "62831d06-b846-4883-c8ae-84c91eca56e6"
      },
      "execution_count": 9,
      "outputs": [
        {
          "output_type": "stream",
          "name": "stdout",
          "text": [
            "\n",
            "Item 1:\n",
            "  Enter price: ₹40\n",
            "  Enter quantity: 2\n",
            "\n",
            "Item 2:\n",
            "  Enter price: ₹62\n",
            "  Enter quantity: 5\n",
            "\n",
            "Item 3:\n",
            "  Enter price: ₹70\n",
            "  Enter quantity: 3\n",
            "\n",
            "🧾 Total Grocery Bill: ₹600.00\n"
          ]
        }
      ]
    },
    {
      "cell_type": "markdown",
      "source": [
        "-------"
      ],
      "metadata": {
        "id": "AIDtH-Ipgla5"
      }
    },
    {
      "cell_type": "markdown",
      "source": [
        "5) Monthly Budget Tracker\n",
        "\n",
        "Take inputs for rent, food, utilities, and entertainment. Show total expense and check if it exceeds ₹50,000."
      ],
      "metadata": {
        "id": "TgZRjroIYmRd"
      }
    },
    {
      "cell_type": "code",
      "source": [
        "# Question 5: Monthly Budget Tracker 💸📊\n",
        "\n",
        "# Take input for each expense category\n",
        "rent = float(input(\"Enter rent amount: ₹\"))\n",
        "food = float(input(\"Enter food expense: ₹\"))\n",
        "utilities = float(input(\"Enter utilities expense: ₹\"))\n",
        "entertainment = float(input(\"Enter entertainment expense: ₹\"))\n",
        "\n",
        "# Calculate total\n",
        "total_expense = rent + food + utilities + entertainment\n",
        "\n",
        "# Show total\n",
        "print(f\"\\n📊 Total Monthly Expense: ₹{total_expense:.2f}\")\n",
        "\n",
        "# Check against budget\n",
        "if total_expense > 50000:\n",
        "    print(\"⚠️ Warning: You've exceeded your ₹50,000 monthly budget!\")\n",
        "else:\n",
        "    print(\"✅ You're within your monthly budget.\")"
      ],
      "metadata": {
        "colab": {
          "base_uri": "https://localhost:8080/"
        },
        "id": "1e3qGIFtYPAS",
        "outputId": "c4f563fd-bec2-4bc4-a1bc-438a1098ecde"
      },
      "execution_count": 10,
      "outputs": [
        {
          "output_type": "stream",
          "name": "stdout",
          "text": [
            "Enter rent amount: ₹10000\n",
            "Enter food expense: ₹4000\n",
            "Enter utilities expense: ₹5000\n",
            "Enter entertainment expense: ₹3400\n",
            "\n",
            "📊 Total Monthly Expense: ₹22400.00\n",
            "✅ You're within your monthly budget.\n"
          ]
        }
      ]
    },
    {
      "cell_type": "markdown",
      "source": [
        "--------"
      ],
      "metadata": {
        "id": "CwkP_q1tgkBm"
      }
    },
    {
      "cell_type": "markdown",
      "source": [
        "6) Steps Tracker\n",
        "\n",
        "Ask the user for the number of steps walked for 7 days, calculate average steps."
      ],
      "metadata": {
        "id": "SMNn7flpY8rb"
      }
    },
    {
      "cell_type": "code",
      "source": [
        "# Question 6: Steps Tracker 🚶📆\n",
        "\n",
        "steps = []\n",
        "\n",
        "# Collect step data for 7 days\n",
        "for i in range(1, 8):\n",
        "    day_steps = int(input(f\"Enter steps walked on Day {i}: \"))\n",
        "    steps.append(day_steps)\n",
        "\n",
        "# Calculate average\n",
        "average_steps = sum(steps) / len(steps)\n",
        "\n",
        "# Show result\n",
        "print(f\"\\n📈 Average steps per day: {average_steps:.0f}\")"
      ],
      "metadata": {
        "colab": {
          "base_uri": "https://localhost:8080/"
        },
        "id": "ZqBke4qzYzmw",
        "outputId": "3f1b4e6d-aec7-430b-888a-7fe9f051e323"
      },
      "execution_count": 11,
      "outputs": [
        {
          "output_type": "stream",
          "name": "stdout",
          "text": [
            "Enter steps walked on Day 1: 3500\n",
            "Enter steps walked on Day 2: 2000\n",
            "Enter steps walked on Day 3: 5000\n",
            "Enter steps walked on Day 4: 8000\n",
            "Enter steps walked on Day 5: 5500\n",
            "Enter steps walked on Day 6: 4230\n",
            "Enter steps walked on Day 7: 7654\n",
            "\n",
            "📈 Average steps per day: 5126\n"
          ]
        }
      ]
    },
    {
      "cell_type": "markdown",
      "source": [
        "-------"
      ],
      "metadata": {
        "id": "oro3ztrUgi4E"
      }
    },
    {
      "cell_type": "markdown",
      "source": [
        "7) Meal Splitter\n",
        "\n",
        "Split a restaurant bill among friends, including 5% tip."
      ],
      "metadata": {
        "id": "xGndd0GrZVgu"
      }
    },
    {
      "cell_type": "code",
      "source": [
        "# Question 7: Meal Splitter 🍽️💰\n",
        "\n",
        "# Ask for bill and number of friends\n",
        "bill_amount = float(input(\"Enter total bill amount (₹): \"))\n",
        "num_friends = int(input(\"Enter number of friends: \"))\n",
        "\n",
        "# Add 5% tip\n",
        "total_with_tip = bill_amount * 1.05\n",
        "\n",
        "# Calculate per person amount\n",
        "amount_per_person = total_with_tip / num_friends\n",
        "\n",
        "# Display result\n",
        "print(f\"\\n🍽️ Total with 5% tip: ₹{total_with_tip:.2f}\")\n",
        "print(f\"💸 Each person should pay: ₹{amount_per_person:.2f}\")"
      ],
      "metadata": {
        "colab": {
          "base_uri": "https://localhost:8080/"
        },
        "id": "lLpvkTdjZJ2u",
        "outputId": "990d6b90-4d6f-440c-c099-3a5d0d8c248b"
      },
      "execution_count": 12,
      "outputs": [
        {
          "output_type": "stream",
          "name": "stdout",
          "text": [
            "Enter total bill amount (₹): 6720\n",
            "Enter number of friends: 4\n",
            "\n",
            "🍽️ Total with 5% tip: ₹7056.00\n",
            "💸 Each person should pay: ₹1764.00\n"
          ]
        }
      ]
    },
    {
      "cell_type": "markdown",
      "source": [
        "-------"
      ],
      "metadata": {
        "id": "1iRN5mGWghKB"
      }
    },
    {
      "cell_type": "markdown",
      "source": [
        "8) Simple Alarm Reminder\n",
        "\n",
        "Ask the current hour (24h format). If the hour is < 6 or > 22, print \"Time to sleep\", else print \"You’re good to go\"."
      ],
      "metadata": {
        "id": "PG7AFgNCZzDG"
      }
    },
    {
      "cell_type": "code",
      "source": [
        "# Question 8: Simple Alarm Reminder ⏰😴\n",
        "\n",
        "# Ask for current hour\n",
        "hour = int(input(\"Enter current hour (0–23): \"))\n",
        "\n",
        "# Validate and respond\n",
        "if hour < 0 or hour > 23:\n",
        "    print(\"❌ Invalid hour. Please enter a value between 0 and 23.\")\n",
        "elif hour < 6 or hour > 22:\n",
        "    print(\"😴 Time to sleep\")\n",
        "else:\n",
        "    print(\"✅ You’re good to go\")"
      ],
      "metadata": {
        "colab": {
          "base_uri": "https://localhost:8080/"
        },
        "id": "RGCq3AHeZoVg",
        "outputId": "1102ac32-8cc4-4349-de3d-62b1ab9f535e"
      },
      "execution_count": 25,
      "outputs": [
        {
          "output_type": "stream",
          "name": "stdout",
          "text": [
            "Enter current hour (0–23): 23\n",
            "😴 Time to sleep\n"
          ]
        }
      ]
    },
    {
      "cell_type": "markdown",
      "source": [
        "--------"
      ],
      "metadata": {
        "id": "AmpP4ZDJgf7w"
      }
    },
    {
      "cell_type": "markdown",
      "source": [
        "9) Electricity Bill Estimator\n",
        "\n",
        "Calculate bill using units used and a flat rate (e.g., ₹7/unit)."
      ],
      "metadata": {
        "id": "3i3qRLjLahJI"
      }
    },
    {
      "cell_type": "code",
      "source": [
        "# Question 9: Electricity Bill Estimator ⚡📉\n",
        "\n",
        "# Set the flat rate per unit\n",
        "rate_per_unit = 7\n",
        "\n",
        "# Ask user for number of units used\n",
        "units_used = float(input(\"Enter number of electricity units used: \"))\n",
        "\n",
        "# Calculate total bill\n",
        "total_bill = units_used * rate_per_unit\n",
        "\n",
        "# Display result\n",
        "print(f\"💡 Electricity Bill: ₹{total_bill:.2f}\")"
      ],
      "metadata": {
        "colab": {
          "base_uri": "https://localhost:8080/"
        },
        "id": "744VMGpiaArh",
        "outputId": "30834e0c-2fc6-4257-b640-f191545117e4"
      },
      "execution_count": 27,
      "outputs": [
        {
          "output_type": "stream",
          "name": "stdout",
          "text": [
            "Enter number of electricity units used: 340.23\n",
            "💡 Electricity Bill: ₹2381.61\n"
          ]
        }
      ]
    },
    {
      "cell_type": "markdown",
      "source": [
        "--------"
      ],
      "metadata": {
        "id": "UPSwd_ZAgeZn"
      }
    },
    {
      "cell_type": "markdown",
      "source": [
        "10) Gmail Username Extractor\n",
        "\n",
        "Ask for a Gmail address, extract and print only the username (before @)"
      ],
      "metadata": {
        "id": "64fnkh3MbHP1"
      }
    },
    {
      "cell_type": "code",
      "source": [
        "# Question 10: Gmail Username Extractor 📧🔍\n",
        "\n",
        "# Ask for Gmail address\n",
        "email = input(\"Enter your Gmail address: \")\n",
        "\n",
        "# Check if it's a valid Gmail address\n",
        "if \"@gmail.com\" in email:\n",
        "    username = email.split(\"@\")[0]\n",
        "    print(\"👤 Gmail username:\", username)\n",
        "else:\n",
        "    print(\"❌ Please enter a valid Gmail address ending with @gmail.com.\")"
      ],
      "metadata": {
        "colab": {
          "base_uri": "https://localhost:8080/"
        },
        "id": "mftF3incbBlC",
        "outputId": "1e123851-9b57-44b7-889d-6b3022374668"
      },
      "execution_count": 29,
      "outputs": [
        {
          "output_type": "stream",
          "name": "stdout",
          "text": [
            "Enter your Gmail address: shubhamchaudhary0205@gmail.com\n",
            "👤 Gmail username: shubhamchaudhary0205\n"
          ]
        }
      ]
    },
    {
      "cell_type": "markdown",
      "source": [
        "--------"
      ],
      "metadata": {
        "id": "YnViPtpygdO0"
      }
    },
    {
      "cell_type": "markdown",
      "source": [
        "11) Instagram Follower Goal\n",
        "\n",
        "Ask user current and target followers, and calculate how many more they need."
      ],
      "metadata": {
        "id": "9XDlANrsbflv"
      }
    },
    {
      "cell_type": "code",
      "source": [
        "# Question 11: Instagram Follower Goal 📱📈\n",
        "\n",
        "# Ask for current and target followers\n",
        "current = int(input(\"Enter your current number of followers: \"))\n",
        "target = int(input(\"Enter your follower goal: \"))\n",
        "\n",
        "# Calculate how many more needed\n",
        "if current >= target:\n",
        "    print(\"🎉 Goal already reached or surpassed!\")\n",
        "else:\n",
        "    remaining = target - current\n",
        "    print(f\"🚀 You need {remaining} more follower(s) to reach your goal.\")"
      ],
      "metadata": {
        "colab": {
          "base_uri": "https://localhost:8080/"
        },
        "id": "VYaENaMsbWAI",
        "outputId": "358f8a4f-60d5-40de-95a9-83ae1db6f11f"
      },
      "execution_count": 32,
      "outputs": [
        {
          "output_type": "stream",
          "name": "stdout",
          "text": [
            "Enter your current number of followers: 89324\n",
            "Enter your follower goal: 100000\n",
            "🚀 You need 10676 more follower(s) to reach your goal.\n"
          ]
        }
      ]
    },
    {
      "cell_type": "markdown",
      "source": [
        "-------"
      ],
      "metadata": {
        "id": "1TTGDxw0gcEA"
      }
    },
    {
      "cell_type": "markdown",
      "source": [
        "12) Travel Time Calculator\n",
        "\n",
        "Ask for distance (km) and speed (km/h), calculate time in hours & minutes."
      ],
      "metadata": {
        "id": "qajVVtbPcJA_"
      }
    },
    {
      "cell_type": "code",
      "source": [
        "# Question 12: Travel Time Calculator 🚗⏱️\n",
        "\n",
        "# Ask for distance and speed\n",
        "distance = float(input(\"Enter distance (in km): \"))\n",
        "speed = float(input(\"Enter speed (in km/h): \"))\n",
        "\n",
        "# Check for valid speed\n",
        "if speed <= 0:\n",
        "    print(\"❌ Speed must be greater than 0.\")\n",
        "else:\n",
        "    # Calculate total time in hours\n",
        "    total_hours = distance / speed\n",
        "\n",
        "    # Convert to hours and minutes\n",
        "    hours = int(total_hours)\n",
        "    minutes = int((total_hours - hours) * 60)\n",
        "\n",
        "    # Display result\n",
        "    print(f\"🕒 Estimated travel time: {hours} hour(s) and {minutes} minute(s)\")"
      ],
      "metadata": {
        "colab": {
          "base_uri": "https://localhost:8080/"
        },
        "id": "nRQpuNUnb365",
        "outputId": "f7ef6e19-2f76-4eb8-a3b4-ce0db479574a"
      },
      "execution_count": 34,
      "outputs": [
        {
          "output_type": "stream",
          "name": "stdout",
          "text": [
            "Enter distance (in km): 438\n",
            "Enter speed (in km/h): 60\n",
            "🕒 Estimated travel time: 7 hour(s) and 17 minute(s)\n"
          ]
        }
      ]
    },
    {
      "cell_type": "markdown",
      "source": [
        "--------"
      ],
      "metadata": {
        "id": "-acZq0TXgasc"
      }
    },
    {
      "cell_type": "markdown",
      "source": [
        "13) Grocery Offer Checker\n",
        "\n",
        "Ask the quantity of onions purchased. If more than 5kg, apply for a 10% discount."
      ],
      "metadata": {
        "id": "zN1GZatgcmyT"
      }
    },
    {
      "cell_type": "code",
      "source": [
        "# Question 13: Grocery Offer Checker 🧅💸\n",
        "\n",
        "# Ask user for quantity and price\n",
        "quantity = float(input(\"Enter quantity of onions purchased (kg): \"))\n",
        "price_per_kg = float(input(\"Enter price per kg (₹): \"))\n",
        "\n",
        "# Calculate total price\n",
        "total_price = quantity * price_per_kg\n",
        "\n",
        "# Apply discount if more than 5 kg\n",
        "if quantity > 5:\n",
        "    discount = total_price * 0.10\n",
        "    total_price -= discount\n",
        "    print(f\"🎉 10% discount applied! You saved ₹{discount:.2f}\")\n",
        "\n",
        "# Show final price\n",
        "print(f\"🧾 Total amount to pay: ₹{total_price:.2f}\")"
      ],
      "metadata": {
        "colab": {
          "base_uri": "https://localhost:8080/"
        },
        "id": "0hWP4FxgcaEn",
        "outputId": "e8ce5648-1292-419d-86ad-243ed60ed1fe"
      },
      "execution_count": 36,
      "outputs": [
        {
          "output_type": "stream",
          "name": "stdout",
          "text": [
            "Enter quantity of onions purchased (kg): 15\n",
            "Enter price per kg (₹): 40\n",
            "🎉 10% discount applied! You saved ₹60.00\n",
            "🧾 Total amount to pay: ₹540.00\n"
          ]
        }
      ]
    },
    {
      "cell_type": "markdown",
      "source": [
        "------"
      ],
      "metadata": {
        "id": "K0ZC_zYkgZnw"
      }
    },
    {
      "cell_type": "markdown",
      "source": [
        "14) Mobile Data Checker\n",
        "\n",
        "Input daily data limit and usage. Warn if usage > 90% of limit."
      ],
      "metadata": {
        "id": "7Kcf6zzfc_yL"
      }
    },
    {
      "cell_type": "code",
      "source": [
        "# Question 14: Mobile Data Checker 📶📉\n",
        "\n",
        "# Ask for daily data limit and usage\n",
        "limit = float(input(\"Enter your daily data limit (GB): \"))\n",
        "used = float(input(\"Enter data used so far (GB): \"))\n",
        "\n",
        "# Calculate usage percentage\n",
        "usage_percent = (used / limit) * 100\n",
        "\n",
        "# Check and respond\n",
        "if usage_percent > 100:\n",
        "    print(\"⚠️ You have exceeded your daily limit!\")\n",
        "elif usage_percent > 90:\n",
        "    print(f\"⚠️ Warning: You have used {usage_percent:.0f}% of your data limit.\")\n",
        "else:\n",
        "    remaining = limit - used\n",
        "    print(f\"✅ You still have {remaining:.2f} GB left.\")"
      ],
      "metadata": {
        "colab": {
          "base_uri": "https://localhost:8080/"
        },
        "id": "leY2SykrdN0Z",
        "outputId": "ab0c98f8-c99c-42f7-c66a-89b5f10591ba"
      },
      "execution_count": 39,
      "outputs": [
        {
          "output_type": "stream",
          "name": "stdout",
          "text": [
            "Enter your daily data limit (GB): 2\n",
            "Enter data used so far (GB): 1.9\n",
            "⚠️ Warning: You have used 95% of your data limit.\n"
          ]
        }
      ]
    },
    {
      "cell_type": "markdown",
      "source": [
        "-------"
      ],
      "metadata": {
        "id": "tHxC2XvpgYWK"
      }
    },
    {
      "cell_type": "markdown",
      "source": [
        "15) Simple Workout Reps Tracker\n",
        "\n",
        "Track how many sets and reps for 3 exercises, calculate total reps."
      ],
      "metadata": {
        "id": "0TzKddeSdjK5"
      }
    },
    {
      "cell_type": "code",
      "source": [
        "# Question 15: Simple Workout Reps Tracker 🏋️‍♂️🔢\n",
        "\n",
        "total_reps = 0\n",
        "\n",
        "# Loop for 3 exercises\n",
        "for i in range(1, 4):\n",
        "    print(f\"\\nExercise {i}:\")\n",
        "    sets = int(input(\"  Enter number of sets: \"))\n",
        "    reps_per_set = int(input(\"  Enter reps per set: \"))\n",
        "\n",
        "    exercise_total = sets * reps_per_set\n",
        "    total_reps += exercise_total\n",
        "\n",
        "    print(f\"  Total reps for Exercise {i}: {exercise_total}\")\n",
        "\n",
        "# Final total\n",
        "print(f\"\\n💪 Total reps completed across all exercises: {total_reps}\")"
      ],
      "metadata": {
        "colab": {
          "base_uri": "https://localhost:8080/"
        },
        "id": "XMUHlBRsdSz6",
        "outputId": "023fc567-3cf0-42d9-b5e6-23e7afdea024"
      },
      "execution_count": 40,
      "outputs": [
        {
          "output_type": "stream",
          "name": "stdout",
          "text": [
            "\n",
            "Exercise 1:\n",
            "  Enter number of sets: 3\n",
            "  Enter reps per set: 15\n",
            "  Total reps for Exercise 1: 45\n",
            "\n",
            "Exercise 2:\n",
            "  Enter number of sets: 2\n",
            "  Enter reps per set: 10\n",
            "  Total reps for Exercise 2: 20\n",
            "\n",
            "Exercise 3:\n",
            "  Enter number of sets: 2\n",
            "  Enter reps per set: 300\n",
            "  Total reps for Exercise 3: 600\n",
            "\n",
            "💪 Total reps completed across all exercises: 665\n"
          ]
        }
      ]
    },
    {
      "cell_type": "markdown",
      "source": [
        "-------"
      ],
      "metadata": {
        "id": "XsyQMmCqgW2U"
      }
    },
    {
      "cell_type": "markdown",
      "source": [
        "16) Movie Night Split Cost\n",
        "\n",
        "Ask how many friends are sharing a ₹1200 subscription and find cost per person."
      ],
      "metadata": {
        "id": "hgblb0E1d_1N"
      }
    },
    {
      "cell_type": "code",
      "source": [
        "# Question 16: Movie Night Split Cost 🎬💳\n",
        "\n",
        "# Total subscription cost\n",
        "total_cost = 1200\n",
        "\n",
        "# Ask how many friends are sharing\n",
        "friends = int(input(\"Enter number of friends sharing the subscription: \"))\n",
        "\n",
        "# Validate input\n",
        "if friends <= 0:\n",
        "    print(\"❌ Number of friends must be greater than 0.\")\n",
        "else:\n",
        "    cost_per_person = total_cost / friends\n",
        "    print(f\"🎬 Each person should pay: ₹{cost_per_person:.2f}\")"
      ],
      "metadata": {
        "colab": {
          "base_uri": "https://localhost:8080/"
        },
        "id": "o8kkbVzkdy0r",
        "outputId": "64a57cdc-611b-4c51-879d-0a0144003181"
      },
      "execution_count": 41,
      "outputs": [
        {
          "output_type": "stream",
          "name": "stdout",
          "text": [
            "Enter number of friends sharing the subscription: 4\n",
            "🎬 Each person should pay: ₹300.00\n"
          ]
        }
      ]
    },
    {
      "cell_type": "markdown",
      "source": [
        "--------"
      ],
      "metadata": {
        "id": "Vpc3HuOJgVmO"
      }
    },
    {
      "cell_type": "markdown",
      "source": [
        "17) Password Strength Checker\n",
        "\n",
        "Check if the password is at least 8 characters and includes a digit."
      ],
      "metadata": {
        "id": "VXHESGjXeWNB"
      }
    },
    {
      "cell_type": "code",
      "source": [
        "# Question 17: Password Strength Checker 🔐📏\n",
        "\n",
        "# Ask user for password\n",
        "password = input(\"Enter your password: \")\n",
        "\n",
        "# Check password length and digit\n",
        "has_length = len(password) >= 8\n",
        "has_digit = any(char.isdigit() for char in password)\n",
        "\n",
        "# Determine strength\n",
        "if has_length and has_digit:\n",
        "    print(\"✅ Strong password.\")\n",
        "elif not has_length and not has_digit:\n",
        "    print(\"❌ Password too short and missing a digit.\")\n",
        "elif not has_length:\n",
        "    print(\"❌ Password too short.\")\n",
        "else:\n",
        "    print(\"❌ Password must include at least one digit.\")"
      ],
      "metadata": {
        "colab": {
          "base_uri": "https://localhost:8080/"
        },
        "id": "9NMKUIiWeQu2",
        "outputId": "6d72daaa-7140-405c-ddf6-31c3cedf4f15"
      },
      "execution_count": 44,
      "outputs": [
        {
          "output_type": "stream",
          "name": "stdout",
          "text": [
            "Enter your password: abcdef12345\n",
            "✅ Strong password.\n"
          ]
        }
      ]
    },
    {
      "cell_type": "markdown",
      "source": [
        "---------"
      ],
      "metadata": {
        "id": "gVcrRpXJgUL8"
      }
    },
    {
      "cell_type": "markdown",
      "source": [
        "18) Fuel Cost Calculator\n",
        "\n",
        "Input distance and mileage. Given fuel price ₹110/litre, calculate trip cost."
      ],
      "metadata": {
        "id": "o5BQYaPkeugY"
      }
    },
    {
      "cell_type": "code",
      "source": [
        "# Question 18: Fuel Cost Calculator ⛽🚗\n",
        "\n",
        "# Fuel price per litre\n",
        "fuel_price = 110\n",
        "\n",
        "# Ask for distance and mileage\n",
        "distance = float(input(\"Enter trip distance (in km): \"))\n",
        "mileage = float(input(\"Enter vehicle mileage (km per litre): \"))\n",
        "\n",
        "# Check for valid mileage\n",
        "if mileage <= 0:\n",
        "    print(\"❌ Mileage must be greater than 0.\")\n",
        "else:\n",
        "    fuel_needed = distance / mileage\n",
        "    cost = fuel_needed * fuel_price\n",
        "\n",
        "    # Show result\n",
        "    print(f\"⛽ Estimated fuel cost for the trip: ₹{cost:.2f}\")"
      ],
      "metadata": {
        "colab": {
          "base_uri": "https://localhost:8080/"
        },
        "id": "L6L0O0l2emQN",
        "outputId": "318fd5b0-10b5-477d-9482-8b5c2ff3a66b"
      },
      "execution_count": 45,
      "outputs": [
        {
          "output_type": "stream",
          "name": "stdout",
          "text": [
            "Enter trip distance (in km): 340\n",
            "Enter vehicle mileage (km per litre): 18\n",
            "⛽ Estimated fuel cost for the trip: ₹2077.78\n"
          ]
        }
      ]
    },
    {
      "cell_type": "markdown",
      "source": [
        "------"
      ],
      "metadata": {
        "id": "7Vzy7_z5gS7p"
      }
    },
    {
      "cell_type": "markdown",
      "source": [
        "19) Weekend Checker\n",
        "\n",
        "Input a day (e.g., \"Monday\"), check if it’s a weekend."
      ],
      "metadata": {
        "id": "1TygWDw0fUqT"
      }
    },
    {
      "cell_type": "code",
      "source": [
        "# Question 19: Weekend Checker 📅✅\n",
        "\n",
        "# Ask user for the day\n",
        "day = input(\"Enter the day of the week: \").strip().capitalize()\n",
        "\n",
        "# Check if weekend\n",
        "if day in [\"Saturday\", \"Sunday\"]:\n",
        "    print(\"🎉 It's the weekend!\")\n",
        "elif day in [\"Monday\", \"Tuesday\", \"Wednesday\", \"Thursday\", \"Friday\"]:\n",
        "    print(\"📅 It's a weekday.\")\n",
        "else:\n",
        "    print(\"❌ Invalid day entered.\")"
      ],
      "metadata": {
        "colab": {
          "base_uri": "https://localhost:8080/"
        },
        "id": "akDjR58KfMZj",
        "outputId": "9978d560-f3fd-4b9f-b33d-fd9a7217d2eb"
      },
      "execution_count": 47,
      "outputs": [
        {
          "output_type": "stream",
          "name": "stdout",
          "text": [
            "Enter the day of the week: monday\n",
            "📅 It's a weekday.\n"
          ]
        }
      ]
    },
    {
      "cell_type": "markdown",
      "source": [
        "------"
      ],
      "metadata": {
        "id": "ZW0GasMygQrs"
      }
    },
    {
      "cell_type": "markdown",
      "source": [
        "20) Morning Routine Stopwatch\n",
        "\n",
        "Ask users how much time (in minutes) they spend on brushing, bathing, and breakfast. Calculate total time."
      ],
      "metadata": {
        "id": "3jjHog_7fsUd"
      }
    },
    {
      "cell_type": "code",
      "source": [
        "# Question 20: Morning Routine Stopwatch ⏱️🌅\n",
        "\n",
        "# Ask for time spent on each activity\n",
        "brushing = float(input(\"Time spent brushing (in minutes): \"))\n",
        "bathing = float(input(\"Time spent bathing (in minutes): \"))\n",
        "breakfast = float(input(\"Time spent on breakfast (in minutes): \"))\n",
        "\n",
        "# Calculate total\n",
        "total_time = brushing + bathing + breakfast\n",
        "\n",
        "# Show result\n",
        "print(f\"\\n⏱️ Total morning routine time: {total_time:.1f} minutes\")"
      ],
      "metadata": {
        "colab": {
          "base_uri": "https://localhost:8080/"
        },
        "id": "P-Zonc9Eflil",
        "outputId": "517dd6bb-26b2-4b58-9b0c-356de76e9219"
      },
      "execution_count": 49,
      "outputs": [
        {
          "output_type": "stream",
          "name": "stdout",
          "text": [
            "Time spent brushing (in minutes): 4\n",
            "Time spent bathing (in minutes): 30\n",
            "Time spent on breakfast (in minutes): 20\n",
            "\n",
            "⏱️ Total morning routine time: 54.0 minutes\n"
          ]
        }
      ]
    }
  ]
}