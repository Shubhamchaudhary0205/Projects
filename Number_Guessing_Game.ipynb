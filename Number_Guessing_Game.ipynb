{
  "nbformat": 4,
  "nbformat_minor": 0,
  "metadata": {
    "colab": {
      "provenance": []
    },
    "kernelspec": {
      "name": "python3",
      "display_name": "Python 3"
    },
    "language_info": {
      "name": "python"
    }
  },
  "cells": [
    {
      "cell_type": "markdown",
      "source": [
        "Project 1: Number Guessing Game 🎯\n",
        "\n",
        "Goal :\n",
        "The computer randomly picks a number between 1 and 100.\n",
        "\n",
        "The user has to guess it — and the program gives hints like “Too High” or “Too Low” until the user gets it right.\n",
        "\n",
        "Concepts used :\n",
        "\n",
        "- random.randint() for generating numbers\n",
        "\n",
        "- Taking user input using input() & converting input to integers\n",
        "\n",
        "- Using while loops and if-else logic"
      ],
      "metadata": {
        "id": "238-DHRl3z9V"
      }
    },
    {
      "cell_type": "code",
      "execution_count": 1,
      "metadata": {
        "colab": {
          "base_uri": "https://localhost:8080/"
        },
        "id": "FwYkgNnI3Wt-",
        "outputId": "5671c02f-599a-4193-fa98-11c03fd37044"
      },
      "outputs": [
        {
          "output_type": "stream",
          "name": "stdout",
          "text": [
            "Welcome to the Number Guessing Game!\n",
            "I'm thinking of a number between 1 and 100.\n",
            "Enter your guess: 25\n",
            "Too low! Try again.\n",
            "Enter your guess: 50\n",
            "Too low! Try again.\n",
            "Enter your guess: 100\n",
            "Too high! Try again.\n",
            "Enter your guess: 90\n",
            "Too high! Try again.\n",
            "Enter your guess: 76\n",
            "Too high! Try again.\n",
            "Enter your guess: 89\n",
            "Too high! Try again.\n",
            "Enter your guess: 90\n",
            "Too high! Try again.\n",
            "Enter your guess: 60\n",
            "Too low! Try again.\n",
            "Enter your guess: 70\n",
            "Too high! Try again.\n",
            "Enter your guess: 75\n",
            "Too high! Try again.\n",
            "Enter your guess: 72\n",
            "Too high! Try again.\n",
            "Enter your guess: 65\n",
            "Too low! Try again.\n",
            "Enter your guess: 66\n",
            "Congratulations! You guessed it in 13 tries.\n"
          ]
        }
      ],
      "source": [
        "import random\n",
        "\n",
        "number_to_guess = random.randint(1, 100)\n",
        "guess = None\n",
        "attempts = 0\n",
        "\n",
        "print(\"Welcome to the Number Guessing Game!\")\n",
        "print(\"I'm thinking of a number between 1 and 100.\")\n",
        "\n",
        "while guess != number_to_guess:\n",
        "    guess = int(input(\"Enter your guess: \"))\n",
        "    attempts += 1\n",
        "\n",
        "    if guess < number_to_guess:\n",
        "        print(\"Too low! Try again.\")\n",
        "    elif guess > number_to_guess:\n",
        "        print(\"Too high! Try again.\")\n",
        "    else:\n",
        "        print(f\"Congratulations! You guessed it in {attempts} tries.\")\n"
      ]
    }
  ]
}