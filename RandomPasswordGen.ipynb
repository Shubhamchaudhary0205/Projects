{
  "nbformat": 4,
  "nbformat_minor": 0,
  "metadata": {
    "colab": {
      "provenance": []
    },
    "kernelspec": {
      "name": "python3",
      "display_name": "Python 3"
    },
    "language_info": {
      "name": "python"
    }
  },
  "cells": [
    {
      "cell_type": "markdown",
      "source": [
        "**RANDOM PASSWORD GENERATOR CODE**"
      ],
      "metadata": {
        "id": "FoUJCJfqAACQ"
      }
    },
    {
      "cell_type": "code",
      "execution_count": 2,
      "metadata": {
        "colab": {
          "base_uri": "https://localhost:8080/"
        },
        "id": "TJGzHShK_6yz",
        "outputId": "e898d188-4e42-4a00-d61c-32cb24d4e33e"
      },
      "outputs": [
        {
          "output_type": "stream",
          "name": "stdout",
          "text": [
            "Enter the length of the password: 10\n",
            "Generated Password is: f#0hHADR6z\n"
          ]
        }
      ],
      "source": [
        "import random\n",
        "\n",
        "# Get the desired password length form the user\n",
        "passlen = int(input(\"Enter the length of the password: \"))\n",
        "\n",
        "# Define the character set for the password\n",
        "s = \"abcdefghijklmnopqrstuvwxyzABCDEFGHIJKLMNOPQRSTUVWXYZ0123456789!@#$%^&*\"\n",
        "\n",
        "# Generate a random password by sampling characters from 's'\n",
        "p = \"\".join(random.sample(s, passlen))\n",
        "\n",
        "# Print the generated password\n",
        "print(\"Generated Password is:\",p)"
      ]
    }
  ]
}