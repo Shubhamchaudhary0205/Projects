{
  "nbformat": 4,
  "nbformat_minor": 0,
  "metadata": {
    "colab": {
      "provenance": []
    },
    "kernelspec": {
      "name": "python3",
      "display_name": "Python 3"
    },
    "language_info": {
      "name": "python"
    }
  },
  "cells": [
    {
      "cell_type": "markdown",
      "source": [
        "# Python Assignment - 3"
      ],
      "metadata": {
        "id": "rdUg56zMDCTr"
      }
    },
    {
      "cell_type": "markdown",
      "source": [
        "1) Digital Zoo Entry\n",
        "\n",
        "Problem:\n",
        "\n",
        "Ask the user for their age and print:\n",
        "\n",
        "* \"Free Entry!\" if age is less than 5\n",
        "* \"Child Ticket\" if age is between 5 and 12\n",
        "* \"Adult Ticket\" if age is above 12\n",
        "\n",
        "Hint: Use if-elif-else creatively"
      ],
      "metadata": {
        "id": "PUDMjSNJDIQQ"
      }
    },
    {
      "cell_type": "code",
      "execution_count": 2,
      "metadata": {
        "colab": {
          "base_uri": "https://localhost:8080/"
        },
        "id": "lpJY2RxgCH32",
        "outputId": "6c8f5fd8-b1c7-4524-d851-e30e4d8df7a3"
      },
      "outputs": [
        {
          "output_type": "stream",
          "name": "stdout",
          "text": [
            "Enter your age: 26\n",
            "Adult Ticket\n"
          ]
        }
      ],
      "source": [
        "# Question 1: Digital Zoo Entry 🦓🐘\n",
        "\n",
        "age = int(input(\"Enter your age: \"))\n",
        "\n",
        "if age < 5:\n",
        "    print(\"Free Entry!\")\n",
        "elif age >= 5 and age <= 12:\n",
        "    print(\"Child Ticket\")\n",
        "else:\n",
        "    print(\"Adult Ticket\")"
      ]
    },
    {
      "cell_type": "markdown",
      "source": [
        "2) Magic Multiples\n",
        "\n",
        "Problem:\n",
        "\n",
        "Print numbers from 1 to n.\n",
        "* If the number is a multiple of 4, print \"Boom\".\n",
        "* If it's a multiple of 6, print \"Bang\".\n",
        "* If it's a multiple of both, print \"BoomBang\".\n",
        "\n",
        "Hint: Use modulus % in a loop.\n"
      ],
      "metadata": {
        "id": "7ZCt3L7eD7F-"
      }
    },
    {
      "cell_type": "code",
      "source": [
        "# Question 2: Magic Multiples 💥🔢\n",
        "\n",
        "# Ask the user for the upper limit\n",
        "n = int(input(\"Enter a number (n): \"))\n",
        "\n",
        "# Loop from 1 to n\n",
        "for i in range(1, n + 1):\n",
        "    if i % 4 == 0 and i % 6 == 0:\n",
        "        print(\"BoomBang\")\n",
        "    elif i % 4 == 0:\n",
        "        print(\"Boom\")\n",
        "    elif i % 6 == 0:\n",
        "        print(\"Bang\")\n",
        "    else:\n",
        "        print(i)"
      ],
      "metadata": {
        "colab": {
          "base_uri": "https://localhost:8080/"
        },
        "id": "Mr6pV0QsDerD",
        "outputId": "d09f38bf-b44d-4b53-a750-59d9c9e32549"
      },
      "execution_count": 5,
      "outputs": [
        {
          "output_type": "stream",
          "name": "stdout",
          "text": [
            "Enter a number (n): 12\n",
            "1\n",
            "2\n",
            "3\n",
            "Boom\n",
            "5\n",
            "Bang\n",
            "7\n",
            "Boom\n",
            "9\n",
            "10\n",
            "11\n",
            "BoomBang\n"
          ]
        }
      ]
    },
    {
      "cell_type": "markdown",
      "source": [
        "3) Count the Vowels\n",
        "\n",
        "Problem:\n",
        "\n",
        "Take a word as input and count the number of vowels using a for loop.\n",
        "\n",
        "Hint: Check if each character is in the string \"aeiouAEIOU\"."
      ],
      "metadata": {
        "id": "kd6wVhT0EuJ8"
      }
    },
    {
      "cell_type": "code",
      "source": [
        "# Question 3: Count the Vowels 🔤🟣\n",
        "\n",
        "# Take input from the user\n",
        "word = input(\"Enter a word: \")\n",
        "\n",
        "# Define vowels\n",
        "vowels = \"aeiouAEIOU\"\n",
        "\n",
        "# Initialize counter\n",
        "count = 0\n",
        "\n",
        "# Loop through each character\n",
        "for char in word:\n",
        "    if char in vowels:\n",
        "        count += 1\n",
        "\n",
        "# Print the result\n",
        "print(\"Number of vowels:\", count)"
      ],
      "metadata": {
        "colab": {
          "base_uri": "https://localhost:8080/"
        },
        "id": "A9EsiEziEV9T",
        "outputId": "718cd49b-403e-484e-f453-d3444ab035a0"
      },
      "execution_count": 6,
      "outputs": [
        {
          "output_type": "stream",
          "name": "stdout",
          "text": [
            "Enter a word: Shubham Chaudhari\n",
            "Number of vowels: 6\n"
          ]
        }
      ]
    },
    {
      "cell_type": "markdown",
      "source": [
        "4) Number Flip Puzzle\n",
        "\n",
        "Problem:\n",
        "\n",
        "Ask the user to enter a number. Flip the number (e.g., 123 → 321).\n",
        "\n",
        "Print:\n",
        "* \"Perfect Flip\" if original equals reversed\n",
        "* \"Almost There\" if difference is < 10\n",
        "* \"Try Again\" otherwise\n",
        "\n",
        "Hint: Use while to reverse the number."
      ],
      "metadata": {
        "id": "VYIJdrGXFIVP"
      }
    },
    {
      "cell_type": "code",
      "source": [
        "# Question 4: Number Flip Puzzle 🔁🔢\n",
        "\n",
        "# Ask the user to enter a number\n",
        "num = int(input(\"Enter a number: \"))\n",
        "original = num\n",
        "reversed_num = 0\n",
        "\n",
        "# Reverse the number using while loop\n",
        "while num > 0:\n",
        "    digit = num % 10\n",
        "    reversed_num = reversed_num * 10 + digit\n",
        "    num = num // 10\n",
        "\n",
        "# Print the reversed number (optional)\n",
        "print(\"Reversed number:\", reversed_num)\n",
        "\n",
        "# Compare and print result\n",
        "if original == reversed_num:\n",
        "    print(\"Perfect Flip\")\n",
        "elif abs(original - reversed_num) < 10:\n",
        "    print(\"Almost There\")\n",
        "else:\n",
        "    print(\"Try Again\")"
      ],
      "metadata": {
        "colab": {
          "base_uri": "https://localhost:8080/"
        },
        "id": "MqLJ4XG6FANN",
        "outputId": "5ea1910a-9b0c-40de-ab10-3e3f62075803"
      },
      "execution_count": 18,
      "outputs": [
        {
          "output_type": "stream",
          "name": "stdout",
          "text": [
            "Enter a number: 121\n",
            "Reversed number: 121\n",
            "Perfect Flip\n"
          ]
        }
      ]
    },
    {
      "cell_type": "markdown",
      "source": [
        "5) Alien Language Translator\n",
        "\n",
        "Problem:\n",
        "\n",
        "Translate a word to \"alien language\" by replacing every second letter with *.\n",
        "\n",
        "Input: \"planet\" → Output: \"pae*\"\n",
        "\n",
        "Hint: Use a for loop and string slicing"
      ],
      "metadata": {
        "id": "7HgG5uY_G1iq"
      }
    },
    {
      "cell_type": "code",
      "source": [
        "# Question 5: Alien Language Translator 👽🔤\n",
        "\n",
        "# Take input from user\n",
        "word = input(\"Enter a word: \")\n",
        "\n",
        "# Create a new string with replacements\n",
        "alien_word = \"\"\n",
        "\n",
        "# Loop through each character using index\n",
        "for i in range(len(word)):\n",
        "    if i % 2 == 0:  # Even index → keep the character\n",
        "        alien_word += word[i]\n",
        "    else:           # Odd index → replace with '*'\n",
        "        alien_word += \"*\"\n",
        "\n",
        "# Print result\n",
        "print(\"Alien word:\", alien_word)"
      ],
      "metadata": {
        "colab": {
          "base_uri": "https://localhost:8080/"
        },
        "id": "raDUqTVIFvoX",
        "outputId": "7089b4c3-e3c1-4cad-89a5-5395ba80ac07"
      },
      "execution_count": 21,
      "outputs": [
        {
          "output_type": "stream",
          "name": "stdout",
          "text": [
            "Enter a word: Shubham\n",
            "Alien word: S*u*h*m\n"
          ]
        }
      ]
    },
    {
      "cell_type": "markdown",
      "source": [
        "6) Number Ladder\n",
        "\n",
        "Problem:\n",
        "\n",
        "Print a ladder of numbers like this for n=4:\n",
        "\n",
        "1\n",
        "\n",
        "2 3\n",
        "\n",
        "4 5 6\n",
        "\n",
        "7 8 9 10\n",
        "\n",
        "Hint: Use nested loops and a counter variable."
      ],
      "metadata": {
        "id": "a11zzwStHTVO"
      }
    },
    {
      "cell_type": "code",
      "source": [
        "# Question 6: Number Ladder 🪜🔢\n",
        "\n",
        "# Take input from the user\n",
        "n = int(input(\"Enter the number of rows: \"))\n",
        "\n",
        "# Initialize the starting number\n",
        "num = 1\n",
        "\n",
        "# Outer loop for each row\n",
        "for i in range(1, n + 1):\n",
        "    # Inner loop to print 'i' numbers in the ith row\n",
        "    for j in range(i):\n",
        "        print(num, end=\" \")\n",
        "        num += 1\n",
        "    print()  # Move to the next line after each row"
      ],
      "metadata": {
        "colab": {
          "base_uri": "https://localhost:8080/"
        },
        "id": "50-Vr0_dHHVz",
        "outputId": "f5cf2a5c-6b0b-48c7-bd0f-ebd7fa302efb"
      },
      "execution_count": 24,
      "outputs": [
        {
          "output_type": "stream",
          "name": "stdout",
          "text": [
            "Enter the number of rows: 4\n",
            "1 \n",
            "2 3 \n",
            "4 5 6 \n",
            "7 8 9 10 \n"
          ]
        }
      ]
    },
    {
      "cell_type": "markdown",
      "source": [
        "7) Password Strength Judge\n",
        "\n",
        "Problem:\n",
        "\n",
        "Ask the user to enter a password. Based on rules, print strength:\n",
        "* Length < 6: \"Weak\"\n",
        "* Contains only letters or digits: \"Moderate\"\n",
        "* Has both letters and digits and length >= 8: \"Strong\"\n",
        "\n",
        "Hint: Use if-else and string methods like .isalpha(), .isdigit()."
      ],
      "metadata": {
        "id": "blvucHuzH6VN"
      }
    },
    {
      "cell_type": "code",
      "source": [
        "#Question 7: Password Strength Judge 🔐💪\n",
        "\n",
        "# Ask the user to enter a password\n",
        "password = input(\"Enter your password: \")\n",
        "\n",
        "# Check password strength\n",
        "if len(password) < 6:\n",
        "    print(\"Weak\")\n",
        "elif password.isalpha() or password.isdigit():\n",
        "    print(\"Moderate\")\n",
        "elif any(c.isalpha() for c in password) and any(c.isdigit() for c in password) and len(password) >= 8:\n",
        "    print(\"Strong\")\n",
        "else:\n",
        "    print(\"Moderate\")  # Catch-all case"
      ],
      "metadata": {
        "colab": {
          "base_uri": "https://localhost:8080/"
        },
        "id": "TW6qGCDRHvln",
        "outputId": "95f8feef-a470-474e-8e07-cd40200c88bd"
      },
      "execution_count": 29,
      "outputs": [
        {
          "output_type": "stream",
          "name": "stdout",
          "text": [
            "Enter your password: abcd1234\n",
            "Strong\n"
          ]
        }
      ]
    },
    {
      "cell_type": "markdown",
      "source": [
        "8) Treasure Map Validator\n",
        "\n",
        "Problem:\n",
        "\n",
        "Create a 5x5 grid using nested loops. Place a \"T\" (treasure) at position (3,3).\n",
        "\n",
        "Ask user to guess row and column (1–5).\n",
        "\n",
        "Print \"Hot!\" if within 1 cell distance, \"Warm\" if 2, and \"Cold\" otherwise.\n",
        "\n",
        "Hint: Use abs() and if ranges for distance logic."
      ],
      "metadata": {
        "id": "XUYdmv6xIfQz"
      }
    },
    {
      "cell_type": "markdown",
      "source": [
        "💡 How it works:\n",
        "abs() gets the distance between guessed and treasure coordinates\n",
        "\n",
        "If both differences (row and column) are within:\n",
        "\n",
        "* ≤ 1 → very close → Hot!\n",
        "\n",
        "* ≤ 2 → kinda close → Warm\n",
        "\n",
        "* Else → too far → Cold"
      ],
      "metadata": {
        "id": "bRm3eeJpJmLw"
      }
    },
    {
      "cell_type": "code",
      "source": [
        "# Question 8: Treasure Map Validator 🗺️💎\n",
        "\n",
        "# Treasure location\n",
        "treasure_row = 3\n",
        "treasure_col = 3\n",
        "\n",
        "# Ask the user to guess a position\n",
        "guess_row = int(input(\"Guess the row (1-5): \"))\n",
        "guess_col = int(input(\"Guess the column (1-5): \"))\n",
        "\n",
        "# Calculate distance from treasure\n",
        "row_diff = abs(guess_row - treasure_row)\n",
        "col_diff = abs(guess_col - treasure_col)\n",
        "\n",
        "# Determine feedback\n",
        "if row_diff <= 1 and col_diff <= 1:\n",
        "    print(\"Hot!\")\n",
        "elif row_diff <= 2 and col_diff <= 2:\n",
        "    print(\"Warm\")\n",
        "else:\n",
        "    print(\"Cold\")"
      ],
      "metadata": {
        "colab": {
          "base_uri": "https://localhost:8080/"
        },
        "id": "QSiNimurIN5J",
        "outputId": "eac69326-b44f-428c-99cb-fa49f5a0c631"
      },
      "execution_count": 37,
      "outputs": [
        {
          "output_type": "stream",
          "name": "stdout",
          "text": [
            "Guess the row (1-5): 6\n",
            "Guess the column (1-5): 7\n",
            "Cold\n"
          ]
        }
      ]
    },
    {
      "cell_type": "markdown",
      "source": [
        "9) Spy Number\n",
        "\n",
        "Problem:\n",
        "\n",
        "A number is called a Spy Number if the sum of its digits equals the product of its digits.\n",
        "\n",
        "Write a program to check if a number is a Spy Number.\n",
        "\n",
        "Example: 1124 → 1+1+2+4 = 8, 1×1×2×4 = 8 → Spy\n",
        "\n",
        "Hint: Use while loop to extract digits."
      ],
      "metadata": {
        "id": "42T16QWFJuGi"
      }
    },
    {
      "cell_type": "code",
      "source": [
        "# Question 9: Spy Number 🕵️‍♂️🔢\n",
        "\n",
        "# Ask user for a number\n",
        "num = int(input(\"Enter a number: \"))\n",
        "original = num\n",
        "\n",
        "# Initialize sum and product\n",
        "digit_sum = 0\n",
        "digit_product = 1\n",
        "\n",
        "# Use while loop to extract digits\n",
        "while num > 0:\n",
        "    digit = num % 10        # Get last digit\n",
        "    digit_sum += digit      # Add to sum\n",
        "    digit_product *= digit  # Multiply to product\n",
        "    num = num // 10         # Remove last digit\n",
        "\n",
        "# Check and print result\n",
        "if digit_sum == digit_product:\n",
        "    print(f\"{original} is a Spy Number!\")\n",
        "else:\n",
        "    print(f\"{original} is NOT a Spy Number.\")"
      ],
      "metadata": {
        "colab": {
          "base_uri": "https://localhost:8080/"
        },
        "id": "FE8fM3KLI54f",
        "outputId": "e0f76fed-18e9-4527-befc-59d3837c231f"
      },
      "execution_count": 39,
      "outputs": [
        {
          "output_type": "stream",
          "name": "stdout",
          "text": [
            "Enter a number: 1124\n",
            "1124 is a Spy Number!\n"
          ]
        }
      ]
    }
  ]
}