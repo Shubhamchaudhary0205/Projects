{
  "nbformat": 4,
  "nbformat_minor": 0,
  "metadata": {
    "colab": {
      "provenance": []
    },
    "kernelspec": {
      "name": "python3",
      "display_name": "Python 3"
    },
    "language_info": {
      "name": "python"
    }
  },
  "cells": [
    {
      "cell_type": "markdown",
      "source": [
        "# Python Assignment 4"
      ],
      "metadata": {
        "id": "P5xPzg-OLqTv"
      }
    },
    {
      "cell_type": "markdown",
      "source": [
        "1) Reverse the Word\n",
        "\n",
        "Problem:\n",
        "\n",
        "Take a string input and print it in reverse.\n",
        "\n",
        "Input: \"hello\" → Output: \"olleh\"\n",
        "\n",
        "Hint: Use string slicing."
      ],
      "metadata": {
        "id": "vp3UKnSMLsUQ"
      }
    },
    {
      "cell_type": "code",
      "execution_count": 1,
      "metadata": {
        "colab": {
          "base_uri": "https://localhost:8080/"
        },
        "id": "DUiiUdoqK6Lw",
        "outputId": "af058444-a63a-4cb5-839e-f115ae66b866"
      },
      "outputs": [
        {
          "output_type": "stream",
          "name": "stdout",
          "text": [
            "Enter a word: Shubham\n",
            "Reversed word: mahbuhS\n"
          ]
        }
      ],
      "source": [
        "# Question 1: Reverse the Word 🔁📝\n",
        "\n",
        "# Take input from the user\n",
        "word = input(\"Enter a word: \")\n",
        "\n",
        "# Reverse the string using slicing\n",
        "reversed_word = word[::-1]\n",
        "\n",
        "# Print the result\n",
        "print(\"Reversed word:\", reversed_word)"
      ]
    },
    {
      "cell_type": "markdown",
      "source": [
        "2) List Filter: Keep Only Even Numbers\n",
        "\n",
        "Problem:\n",
        "\n",
        "Given a list of numbers, create a new list with only even numbers using list comprehension.\n",
        "\n",
        "Input: [1, 2, 3, 4, 5, 6] → Output: [2, 4, 6]\n",
        "\n",
        "Hint: Use if in list comprehension."
      ],
      "metadata": {
        "id": "lefS_HdXMR4_"
      }
    },
    {
      "cell_type": "code",
      "source": [
        "# Question 2: List Filter (Even Numbers) 🔢\n",
        "\n",
        "# Ask the user to enter numbers separated by space\n",
        "input_str = input(\"Enter numbers separated by spaces: \")\n",
        "\n",
        "# Convert the input string to a list of integers\n",
        "numbers = [int(num) for num in input_str.split()]\n",
        "\n",
        "# Filter even numbers using list comprehension\n",
        "even_numbers = [num for num in numbers if num % 2 == 0]\n",
        "\n",
        "# Print the result\n",
        "print(\"Even numbers:\", even_numbers)"
      ],
      "metadata": {
        "colab": {
          "base_uri": "https://localhost:8080/"
        },
        "id": "aH8IcMAJL6Gv",
        "outputId": "ae619fed-6f40-4271-ae87-b8e08e0059c4"
      },
      "execution_count": 4,
      "outputs": [
        {
          "output_type": "stream",
          "name": "stdout",
          "text": [
            "Enter numbers separated by spaces: 22 28 34 59 77\n",
            "Even numbers: [22, 28, 34]\n"
          ]
        }
      ]
    },
    {
      "cell_type": "markdown",
      "source": [
        "3) Count Vowels in a String\n",
        "\n",
        "Problem:\n",
        "\n",
        "Count how many vowels (a, e, i, o, u) are in a string.\n",
        "\n",
        "Input: \"education\" → Output: 5\n",
        "\n",
        "Hint: Loop through the string and check membership in \"aeiou\"."
      ],
      "metadata": {
        "id": "lzpxQcxENLGu"
      }
    },
    {
      "cell_type": "code",
      "source": [
        "# Question 3: Count Vowels in a String 🔤🧮\n",
        "\n",
        "# Take input from user\n",
        "text = input(\"Enter a string: \")\n",
        "\n",
        "# Define vowels\n",
        "vowels = \"aeiouAEIOU\"\n",
        "\n",
        "# Initialize counter\n",
        "count = 0\n",
        "\n",
        "# Loop through each character and count vowels\n",
        "for char in text:\n",
        "    if char in vowels:\n",
        "        count += 1\n",
        "\n",
        "# Print the result\n",
        "print(\"Number of vowels:\", count)"
      ],
      "metadata": {
        "colab": {
          "base_uri": "https://localhost:8080/"
        },
        "id": "nYxkuyfAMq0I",
        "outputId": "65199062-1752-4fcb-c99f-4d5998bbc347"
      },
      "execution_count": 6,
      "outputs": [
        {
          "output_type": "stream",
          "name": "stdout",
          "text": [
            "Enter a string: Shubham Chaudhari\n",
            "Number of vowels: 6\n"
          ]
        }
      ]
    },
    {
      "cell_type": "markdown",
      "source": [
        "4) Middle Element(s)\n",
        "\n",
        "Problem:\n",
        "\n",
        "Given a list, return the middle element(s).\n",
        "* If the list has odd length → return the middle one\n",
        "* If even → return a tuple of two middle elements\n",
        "\n",
        "Input: [1, 2, 3, 4, 5] → 3\n",
        "\n",
        "Input: [1, 2, 3, 4] → (2, 3)\n",
        "\n",
        "Hint: Use len() and index slicing."
      ],
      "metadata": {
        "id": "gufgfOm5NjZw"
      }
    },
    {
      "cell_type": "code",
      "source": [
        "# Question 4: Middle Element(s) 🎯📍\n",
        "\n",
        "# Ask user to enter numbers\n",
        "input_str = input(\"Enter list elements separated by spaces: \")\n",
        "numbers = [int(num) for num in input_str.split()]\n",
        "\n",
        "length = len(numbers)\n",
        "mid = length // 2  # Middle index\n",
        "\n",
        "# Check if the list has odd or even length\n",
        "if length % 2 == 1:\n",
        "    result = numbers[mid]\n",
        "else:\n",
        "    result = (numbers[mid - 1], numbers[mid])\n",
        "\n",
        "# Print the result\n",
        "print(\"Middle element(s):\", result)"
      ],
      "metadata": {
        "colab": {
          "base_uri": "https://localhost:8080/"
        },
        "id": "0GxHxp99NX64",
        "outputId": "39ae9035-8b29-4370-b14a-d87f685af3e0"
      },
      "execution_count": 9,
      "outputs": [
        {
          "output_type": "stream",
          "name": "stdout",
          "text": [
            "Enter list elements separated by spaces: 1 2 3 4 5 6 7 8 9 10\n",
            "Middle element(s): (5, 6)\n"
          ]
        }
      ]
    },
    {
      "cell_type": "markdown",
      "source": [
        "5) Split String by Uppercase\n",
        "\n",
        "Problem:\n",
        "\n",
        "Write a function that splits a string into words where each new word starts\n",
        "with a capital letter.\n",
        "\n",
        "Input: \"ILovePythonCode\" → Output: ['I', 'Love', 'Python', 'Code']\n",
        "\n",
        "Hint: Loop and detect .isupper() characters to split."
      ],
      "metadata": {
        "id": "-xtFjE_ROSDG"
      }
    },
    {
      "cell_type": "code",
      "source": [
        "# Question 5: Split String by Uppercase 🔠✂️\n",
        "\n",
        "def split_by_uppercase(s):\n",
        "    words = []\n",
        "    current_word = \"\"\n",
        "\n",
        "    for char in s:\n",
        "        if char.isupper() and current_word:\n",
        "            words.append(current_word)\n",
        "            current_word = char\n",
        "        else:\n",
        "            current_word += char\n",
        "\n",
        "    words.append(current_word)  # Add the last word\n",
        "    return words\n",
        "\n",
        "# Example usage\n",
        "input_str = input(\"Enter a camel case string: \")\n",
        "result = split_by_uppercase(input_str)\n",
        "print(\"Split words:\", result)"
      ],
      "metadata": {
        "colab": {
          "base_uri": "https://localhost:8080/"
        },
        "id": "hjm9mECSOEFR",
        "outputId": "2ebf1cfd-a8fd-4684-cddd-4f8ff413baef"
      },
      "execution_count": 11,
      "outputs": [
        {
          "output_type": "stream",
          "name": "stdout",
          "text": [
            "Enter a camel case string: My Name Is Shubham Chaudhari\n",
            "Split words: ['My ', 'Name ', 'Is ', 'Shubham ', 'Chaudhari']\n"
          ]
        }
      ]
    },
    {
      "cell_type": "markdown",
      "source": [
        "6) Alternating Sign List\n",
        "\n",
        "Problem:\n",
        "\n",
        "Given a list of numbers, return a new list where even-indexed numbers are made negative, and odd-indexed ones remain the same.\n",
        "\n",
        "Input: [1, 2, 3, 4] → [-1, 2, -3, 4]\n",
        "\n",
        "Hint: Use list comprehension with enumerate."
      ],
      "metadata": {
        "id": "xrHLYEDPO0-s"
      }
    },
    {
      "cell_type": "code",
      "source": [
        "# Question 6: Alternating Sign List ➕➖\n",
        "\n",
        "# Take user input\n",
        "input_str = input(\"Enter numbers separated by spaces: \")\n",
        "numbers = [int(num) for num in input_str.split()]\n",
        "\n",
        "# Apply alternating sign logic using list comprehension\n",
        "result = [-num if i % 2 == 0 else num for i, num in enumerate(numbers)]\n",
        "\n",
        "# Print the result\n",
        "print(\"Alternating sign list:\", result)"
      ],
      "metadata": {
        "colab": {
          "base_uri": "https://localhost:8080/"
        },
        "id": "_8WS3zBMOm-a",
        "outputId": "f759bcb6-6170-41fd-9e9e-b62eb627d887"
      },
      "execution_count": 13,
      "outputs": [
        {
          "output_type": "stream",
          "name": "stdout",
          "text": [
            "Enter numbers separated by spaces: 2 4 6 8 10\n",
            "Alternating sign list: [-2, 4, -6, 8, -10]\n"
          ]
        }
      ]
    },
    {
      "cell_type": "markdown",
      "source": [
        "7) Compress Characters\n",
        "\n",
        "Problem:\n",
        "\n",
        "Given a string, return a list of tuples where each tuple is (character, count of consecutive repetitions).\n",
        "\n",
        "Input: \"aaabbc\" → Output: [('a', 3), ('b', 2), ('c', 1)]\n",
        "\n",
        "Hint: Use a loop and compare current vs next character."
      ],
      "metadata": {
        "id": "cUa0WTp4QG62"
      }
    },
    {
      "cell_type": "code",
      "source": [
        "# Question 7: Compress Characters 🔁🔤\n",
        "\n",
        "def compress_characters(s):\n",
        "    if not s:\n",
        "        return []\n",
        "\n",
        "    compressed = []\n",
        "    count = 1\n",
        "\n",
        "    for i in range(1, len(s)):\n",
        "        if s[i] == s[i - 1]:\n",
        "            count += 1\n",
        "        else:\n",
        "            compressed.append((s[i - 1], count))\n",
        "            count = 1\n",
        "\n",
        "    # Append the last group\n",
        "    compressed.append((s[-1], count))\n",
        "    return compressed\n",
        "\n",
        "# Example usage\n",
        "input_str = input(\"Enter a string: \")\n",
        "result = compress_characters(input_str)\n",
        "print(\"Compressed:\", result)"
      ],
      "metadata": {
        "colab": {
          "base_uri": "https://localhost:8080/"
        },
        "id": "Fy76UXJOPjg3",
        "outputId": "6a6990db-5aa6-46d1-8eba-b1c6fd7f1538"
      },
      "execution_count": 14,
      "outputs": [
        {
          "output_type": "stream",
          "name": "stdout",
          "text": [
            "Enter a string: abbbbcdefffffgggg\n",
            "Compressed: [('a', 1), ('b', 4), ('c', 1), ('d', 1), ('e', 1), ('f', 5), ('g', 4)]\n"
          ]
        }
      ]
    },
    {
      "cell_type": "markdown",
      "source": [
        "8) Top Two Frequent Elements\n",
        "\n",
        "Problem:\n",
        "\n",
        "From a list of words, return the two most frequent ones as a tuple.\n",
        "\n",
        "Input: [\"apple\", \"banana\", \"apple\", \"orange\", \"banana\", \"apple\"] →\n",
        "(\"apple\", \"banana\")\n",
        "\n",
        "Hint: Use dict to count and sorted() with lambda."
      ],
      "metadata": {
        "id": "X5PahoXcQdHr"
      }
    },
    {
      "cell_type": "code",
      "source": [
        "# Question 8: Top Two Frequent Elements 🍎🍌📊\n",
        "\n",
        "from collections import Counter\n",
        "\n",
        "# Take input from the user\n",
        "input_str = input(\"Enter words separated by spaces: \")\n",
        "words = input_str.split()\n",
        "\n",
        "# Count frequency using Counter\n",
        "word_counts = Counter(words)\n",
        "\n",
        "# Sort by frequency (highest first)\n",
        "top_two = sorted(word_counts.items(), key=lambda x: x[1], reverse=True)[:2]\n",
        "\n",
        "# Extract just the words into a tuple\n",
        "result = tuple(word for word, count in top_two)\n",
        "\n",
        "# Print the result\n",
        "print(\"Top two frequent words:\", result)"
      ],
      "metadata": {
        "colab": {
          "base_uri": "https://localhost:8080/"
        },
        "id": "yskbsoxXQW_4",
        "outputId": "1aaba82b-7eec-4726-ab7c-5377dccacb52"
      },
      "execution_count": 17,
      "outputs": [
        {
          "output_type": "stream",
          "name": "stdout",
          "text": [
            "Enter words separated by spaces: apple banana apple orange banana apple\n",
            "Top two frequent words: ('apple', 'banana')\n"
          ]
        }
      ]
    },
    {
      "cell_type": "markdown",
      "source": [
        "9) Nested List Flattening\n",
        "\n",
        "Problem:\n",
        "\n",
        "Flatten a nested list (one level deep only).\n",
        "\n",
        "Input: [[1, 2], [3, 4], [5]] → [1, 2, 3, 4, 5]\n",
        "\n",
        "Hint: Use nested loops or list comprehension."
      ],
      "metadata": {
        "id": "Z6tQgPCIRZUY"
      }
    },
    {
      "cell_type": "code",
      "source": [
        "# Question 9: Nested List Flattening 📥➡️📤\n",
        "\n",
        "# Example nested list\n",
        "nested = [[1, 2], [3, 4], [5]]\n",
        "\n",
        "# Flatten using list comprehension\n",
        "flattened = [item for sublist in nested for item in sublist]\n",
        "\n",
        "# Print the result\n",
        "print(\"Flattened list:\", flattened)"
      ],
      "metadata": {
        "colab": {
          "base_uri": "https://localhost:8080/"
        },
        "id": "5pmnvgqCQzBd",
        "outputId": "9795b1b4-9394-4827-c7e3-7b4f47f51b3b"
      },
      "execution_count": 18,
      "outputs": [
        {
          "output_type": "stream",
          "name": "stdout",
          "text": [
            "Flattened list: [1, 2, 3, 4, 5]\n"
          ]
        }
      ]
    }
  ]
}